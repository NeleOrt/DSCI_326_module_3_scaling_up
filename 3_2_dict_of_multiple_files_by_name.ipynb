{
 "cells": [
  {
   "cell_type": "markdown",
   "metadata": {},
   "source": [
    "# Working with multiple files\n",
    "\n",
    "On occasion, we will need to combine more than 2 files using some combination of `UNION` and `JOIN`.  In this lecture, we will show a clean approach to scaling up these operations up to any number of files.  In the process, we will\n",
    "\n",
    "1. Use `list` comprehensions to process and `UNION` many similar files.\n",
    "2. Use `dict` comprehensions to store and access many tables by name."
   ]
  },
  {
   "cell_type": "code",
   "execution_count": 15,
   "metadata": {},
   "outputs": [],
   "source": [
    "import polars as pl"
   ]
  },
  {
   "cell_type": "markdown",
   "metadata": {},
   "source": [
    "## Store in `dict` or `list`?\n",
    "\n",
    "* Natural sequence/order? $\\rightarrow$ `list`\n",
    "    *  Example: Lakes data and years are a natural sequence\n",
    "* Easier to refer by name? $\\rightarrow$ `dict`\n",
    "    * Baseball files have no order and easier to refer to by name"
   ]
  },
  {
   "cell_type": "markdown",
   "metadata": {},
   "source": [
    "## Example 1 - Read all baseball database using `dict`\n",
    "\n",
    "**Task:** Create a `dict` of tables for all tables in the Lahman database"
   ]
  },
  {
   "cell_type": "code",
   "execution_count": null,
   "metadata": {},
   "outputs": [],
   "source": []
  },
  {
   "cell_type": "markdown",
   "metadata": {},
   "source": [
    "#### Step 1 - Use `glob` to find paths for all CSV files"
   ]
  },
  {
   "cell_type": "code",
   "execution_count": 16,
   "metadata": {},
   "outputs": [
    {
     "data": {
      "text/plain": [
       "['./data/baseball/core\\\\AllstarFull.csv',\n",
       " './data/baseball/core\\\\Appearances.csv',\n",
       " './data/baseball/core\\\\AwardsManagers.csv',\n",
       " './data/baseball/core\\\\AwardsPlayers.csv',\n",
       " './data/baseball/core\\\\AwardsShareManagers.csv',\n",
       " './data/baseball/core\\\\AwardsSharePlayers.csv',\n",
       " './data/baseball/core\\\\Batting.csv',\n",
       " './data/baseball/core\\\\BattingPost.csv',\n",
       " './data/baseball/core\\\\CollegePlaying.csv',\n",
       " './data/baseball/core\\\\Fielding.csv',\n",
       " './data/baseball/core\\\\FieldingOF.csv',\n",
       " './data/baseball/core\\\\FieldingOFsplit.csv',\n",
       " './data/baseball/core\\\\FieldingPost.csv',\n",
       " './data/baseball/core\\\\HallOfFame.csv',\n",
       " './data/baseball/core\\\\HomeGames.csv',\n",
       " './data/baseball/core\\\\Managers.csv',\n",
       " './data/baseball/core\\\\ManagersHalf.csv',\n",
       " './data/baseball/core\\\\Parks.csv',\n",
       " './data/baseball/core\\\\People.csv',\n",
       " './data/baseball/core\\\\Pitching.csv',\n",
       " './data/baseball/core\\\\PitchingPost.csv',\n",
       " './data/baseball/core\\\\Salaries.csv',\n",
       " './data/baseball/core\\\\Schools.csv',\n",
       " './data/baseball/core\\\\SeriesPost.csv',\n",
       " './data/baseball/core\\\\Teams.csv',\n",
       " './data/baseball/core\\\\TeamsFranchises.csv',\n",
       " './data/baseball/core\\\\TeamsHalf.csv']"
      ]
     },
     "execution_count": 16,
     "metadata": {},
     "output_type": "execute_result"
    }
   ],
   "source": [
    "from glob import glob\n",
    "files = glob('./data/baseball/core/*.csv')\n",
    "files"
   ]
  },
  {
   "cell_type": "markdown",
   "metadata": {},
   "source": [
    "#### Step 2 - Make a function to extract the table name"
   ]
  },
  {
   "cell_type": "code",
   "execution_count": 17,
   "metadata": {},
   "outputs": [
    {
     "data": {
      "text/plain": [
       "[None,\n",
       " None,\n",
       " None,\n",
       " None,\n",
       " None,\n",
       " None,\n",
       " None,\n",
       " None,\n",
       " None,\n",
       " None,\n",
       " None,\n",
       " None,\n",
       " None,\n",
       " None,\n",
       " None,\n",
       " None,\n",
       " None,\n",
       " None,\n",
       " None,\n",
       " None,\n",
       " None,\n",
       " None,\n",
       " None,\n",
       " None,\n",
       " None,\n",
       " None,\n",
       " None]"
      ]
     },
     "execution_count": 17,
     "metadata": {},
     "output_type": "execute_result"
    }
   ],
   "source": [
    "import re\n",
    "FILE_NAME_RE = re.compile(r'^\\./data/baseball/core/([a-zA-Z_]*)\\.csv$')\n",
    "file_name = lambda p: FILE_NAME_RE.match(p).group(1) if FILE_NAME_RE.match(p) else None\n",
    "\n",
    "[file_name(p) for p in files]"
   ]
  },
  {
   "cell_type": "markdown",
   "metadata": {},
   "source": [
    "#### 4 - Read in the tables."
   ]
  },
  {
   "cell_type": "code",
   "execution_count": 18,
   "metadata": {},
   "outputs": [
    {
     "data": {
      "text/plain": [
       "{None: shape: (52, 10)\n",
       " ┌────────┬──────┬────────┬──────┬───┬──────┬─────┬─────┬─────┐\n",
       " │ yearID ┆ lgID ┆ teamID ┆ Half ┆ … ┆ Rank ┆ G   ┆ W   ┆ L   │\n",
       " │ ---    ┆ ---  ┆ ---    ┆ ---  ┆   ┆ ---  ┆ --- ┆ --- ┆ --- │\n",
       " │ i64    ┆ str  ┆ str    ┆ i64  ┆   ┆ i64  ┆ i64 ┆ i64 ┆ i64 │\n",
       " ╞════════╪══════╪════════╪══════╪═══╪══════╪═════╪═════╪═════╡\n",
       " │ 1981   ┆ NL   ┆ ATL    ┆ 1    ┆ … ┆ 4    ┆ 54  ┆ 25  ┆ 29  │\n",
       " │ 1981   ┆ NL   ┆ ATL    ┆ 2    ┆ … ┆ 5    ┆ 52  ┆ 25  ┆ 27  │\n",
       " │ 1981   ┆ AL   ┆ BAL    ┆ 1    ┆ … ┆ 2    ┆ 54  ┆ 31  ┆ 23  │\n",
       " │ 1981   ┆ AL   ┆ BAL    ┆ 2    ┆ … ┆ 4    ┆ 51  ┆ 28  ┆ 23  │\n",
       " │ 1981   ┆ AL   ┆ BOS    ┆ 1    ┆ … ┆ 5    ┆ 56  ┆ 30  ┆ 26  │\n",
       " │ …      ┆ …    ┆ …      ┆ …    ┆ … ┆ …    ┆ …   ┆ …   ┆ …   │\n",
       " │ 1981   ┆ NL   ┆ SLN    ┆ 2    ┆ … ┆ 2    ┆ 52  ┆ 29  ┆ 23  │\n",
       " │ 1981   ┆ AL   ┆ TEX    ┆ 1    ┆ … ┆ 2    ┆ 55  ┆ 33  ┆ 22  │\n",
       " │ 1981   ┆ AL   ┆ TEX    ┆ 2    ┆ … ┆ 3    ┆ 50  ┆ 24  ┆ 26  │\n",
       " │ 1981   ┆ AL   ┆ TOR    ┆ 1    ┆ … ┆ 7    ┆ 58  ┆ 16  ┆ 42  │\n",
       " │ 1981   ┆ AL   ┆ TOR    ┆ 2    ┆ … ┆ 6    ┆ 48  ┆ 21  ┆ 27  │\n",
       " └────────┴──────┴────────┴──────┴───┴──────┴─────┴─────┴─────┘}"
      ]
     },
     "execution_count": 18,
     "metadata": {},
     "output_type": "execute_result"
    }
   ],
   "source": [
    "baseball_db = {file_name(p):pl.read_csv(p, infer_schema_length=10000) for p in files}\n",
    "\n",
    "baseball_db"
   ]
  },
  {
   "cell_type": "markdown",
   "metadata": {},
   "source": [
    "### We can now access all the tables by name."
   ]
  },
  {
   "cell_type": "code",
   "execution_count": 19,
   "metadata": {
    "scrolled": true
   },
   "outputs": [
    {
     "data": {
      "text/plain": [
       "{None: shape: (52, 10)\n",
       " ┌────────┬──────┬────────┬──────┬───┬──────┬─────┬─────┬─────┐\n",
       " │ yearID ┆ lgID ┆ teamID ┆ Half ┆ … ┆ Rank ┆ G   ┆ W   ┆ L   │\n",
       " │ ---    ┆ ---  ┆ ---    ┆ ---  ┆   ┆ ---  ┆ --- ┆ --- ┆ --- │\n",
       " │ i64    ┆ str  ┆ str    ┆ i64  ┆   ┆ i64  ┆ i64 ┆ i64 ┆ i64 │\n",
       " ╞════════╪══════╪════════╪══════╪═══╪══════╪═════╪═════╪═════╡\n",
       " │ 1981   ┆ NL   ┆ ATL    ┆ 1    ┆ … ┆ 4    ┆ 54  ┆ 25  ┆ 29  │\n",
       " │ 1981   ┆ NL   ┆ ATL    ┆ 2    ┆ … ┆ 5    ┆ 52  ┆ 25  ┆ 27  │\n",
       " │ 1981   ┆ AL   ┆ BAL    ┆ 1    ┆ … ┆ 2    ┆ 54  ┆ 31  ┆ 23  │\n",
       " │ 1981   ┆ AL   ┆ BAL    ┆ 2    ┆ … ┆ 4    ┆ 51  ┆ 28  ┆ 23  │\n",
       " │ 1981   ┆ AL   ┆ BOS    ┆ 1    ┆ … ┆ 5    ┆ 56  ┆ 30  ┆ 26  │\n",
       " │ …      ┆ …    ┆ …      ┆ …    ┆ … ┆ …    ┆ …   ┆ …   ┆ …   │\n",
       " │ 1981   ┆ NL   ┆ SLN    ┆ 2    ┆ … ┆ 2    ┆ 52  ┆ 29  ┆ 23  │\n",
       " │ 1981   ┆ AL   ┆ TEX    ┆ 1    ┆ … ┆ 2    ┆ 55  ┆ 33  ┆ 22  │\n",
       " │ 1981   ┆ AL   ┆ TEX    ┆ 2    ┆ … ┆ 3    ┆ 50  ┆ 24  ┆ 26  │\n",
       " │ 1981   ┆ AL   ┆ TOR    ┆ 1    ┆ … ┆ 7    ┆ 58  ┆ 16  ┆ 42  │\n",
       " │ 1981   ┆ AL   ┆ TOR    ┆ 2    ┆ … ┆ 6    ┆ 48  ┆ 21  ┆ 27  │\n",
       " └────────┴──────┴────────┴──────┴───┴──────┴─────┴─────┴─────┘}"
      ]
     },
     "execution_count": 19,
     "metadata": {},
     "output_type": "execute_result"
    }
   ],
   "source": [
    "# Biggish output\n",
    "baseball_db"
   ]
  },
  {
   "cell_type": "code",
   "execution_count": 20,
   "metadata": {},
   "outputs": [
    {
     "ename": "KeyError",
     "evalue": "'Teams'",
     "output_type": "error",
     "traceback": [
      "\u001b[1;31m---------------------------------------------------------------------------\u001b[0m",
      "\u001b[1;31mKeyError\u001b[0m                                  Traceback (most recent call last)",
      "Cell \u001b[1;32mIn[20], line 1\u001b[0m\n\u001b[1;32m----> 1\u001b[0m \u001b[43mbaseball_db\u001b[49m\u001b[43m[\u001b[49m\u001b[38;5;124;43m'\u001b[39;49m\u001b[38;5;124;43mTeams\u001b[39;49m\u001b[38;5;124;43m'\u001b[39;49m\u001b[43m]\u001b[49m\n",
      "\u001b[1;31mKeyError\u001b[0m: 'Teams'"
     ]
    }
   ],
   "source": [
    "baseball_db['Teams']"
   ]
  },
  {
   "cell_type": "code",
   "execution_count": 21,
   "metadata": {},
   "outputs": [
    {
     "ename": "KeyError",
     "evalue": "'Batting'",
     "output_type": "error",
     "traceback": [
      "\u001b[1;31m---------------------------------------------------------------------------\u001b[0m",
      "\u001b[1;31mKeyError\u001b[0m                                  Traceback (most recent call last)",
      "Cell \u001b[1;32mIn[21], line 1\u001b[0m\n\u001b[1;32m----> 1\u001b[0m \u001b[43mbaseball_db\u001b[49m\u001b[43m[\u001b[49m\u001b[38;5;124;43m'\u001b[39;49m\u001b[38;5;124;43mBatting\u001b[39;49m\u001b[38;5;124;43m'\u001b[39;49m\u001b[43m]\u001b[49m\n",
      "\u001b[1;31mKeyError\u001b[0m: 'Batting'"
     ]
    }
   ],
   "source": [
    "baseball_db['Batting']"
   ]
  },
  {
   "cell_type": "markdown",
   "metadata": {},
   "source": [
    "## Example 2 - Reading and joining the baseball database using `dict`\n",
    "\n",
    "**Task:** Collect the number of total hits for each batters in the 2010 season join on their first and last name.\n",
    "\n",
    "In the second example, we will store the data frames in a `dict`, which will make it easier to join the files by ne"
   ]
  },
  {
   "cell_type": "markdown",
   "metadata": {},
   "source": [
    "#### Step 1 - Get the files names"
   ]
  },
  {
   "cell_type": "markdown",
   "metadata": {},
   "source": [
    "* Only need the `Batting.csv` and `People.csv`.  \n",
    "* Narrow with a RegEx"
   ]
  },
  {
   "cell_type": "code",
   "execution_count": 22,
   "metadata": {},
   "outputs": [
    {
     "data": {
      "text/plain": [
       "['./data/baseball/core\\\\AllstarFull.csv',\n",
       " './data/baseball/core\\\\Appearances.csv',\n",
       " './data/baseball/core\\\\AwardsManagers.csv',\n",
       " './data/baseball/core\\\\AwardsPlayers.csv',\n",
       " './data/baseball/core\\\\AwardsShareManagers.csv',\n",
       " './data/baseball/core\\\\AwardsSharePlayers.csv',\n",
       " './data/baseball/core\\\\Batting.csv',\n",
       " './data/baseball/core\\\\BattingPost.csv',\n",
       " './data/baseball/core\\\\CollegePlaying.csv',\n",
       " './data/baseball/core\\\\Fielding.csv',\n",
       " './data/baseball/core\\\\FieldingOF.csv',\n",
       " './data/baseball/core\\\\FieldingOFsplit.csv',\n",
       " './data/baseball/core\\\\FieldingPost.csv',\n",
       " './data/baseball/core\\\\HallOfFame.csv',\n",
       " './data/baseball/core\\\\HomeGames.csv',\n",
       " './data/baseball/core\\\\Managers.csv',\n",
       " './data/baseball/core\\\\ManagersHalf.csv',\n",
       " './data/baseball/core\\\\Parks.csv',\n",
       " './data/baseball/core\\\\People.csv',\n",
       " './data/baseball/core\\\\Pitching.csv',\n",
       " './data/baseball/core\\\\PitchingPost.csv',\n",
       " './data/baseball/core\\\\Salaries.csv',\n",
       " './data/baseball/core\\\\Schools.csv',\n",
       " './data/baseball/core\\\\SeriesPost.csv',\n",
       " './data/baseball/core\\\\Teams.csv',\n",
       " './data/baseball/core\\\\TeamsFranchises.csv',\n",
       " './data/baseball/core\\\\TeamsHalf.csv']"
      ]
     },
     "execution_count": 22,
     "metadata": {},
     "output_type": "execute_result"
    }
   ],
   "source": [
    "from glob import glob\n",
    "files = glob('./data/baseball/core/*.csv')\n",
    "files"
   ]
  },
  {
   "cell_type": "markdown",
   "metadata": {},
   "source": [
    "#### Step 2 - Make helper functions to get the name from path"
   ]
  },
  {
   "cell_type": "code",
   "execution_count": 62,
   "metadata": {},
   "outputs": [
    {
     "data": {
      "text/plain": [
       "[]"
      ]
     },
     "execution_count": 62,
     "metadata": {},
     "output_type": "execute_result"
    }
   ],
   "source": [
    "import re\n",
    "FILE_NAME_RE = re.compile(r'^\\./data/baseball/core/(Batting|People)\\.csv$')\n",
    "is_batting_or_people = lambda p: FILE_NAME_RE.match(p)\n",
    "file_name = lambda p: FILE_NAME_RE.match(p).group(1) \n",
    "\n",
    "[file_name(p) for p in files if is_batting_or_people(p)]"
   ]
  },
  {
   "cell_type": "code",
   "execution_count": 46,
   "metadata": {},
   "outputs": [
    {
     "data": {
      "text/plain": [
       "[]"
      ]
     },
     "execution_count": 46,
     "metadata": {},
     "output_type": "execute_result"
    }
   ],
   "source": [
    "dfs = [pl.read_csv(p) for p in files if is_batting_or_people(p)]\n",
    "\n",
    "dfs"
   ]
  },
  {
   "cell_type": "markdown",
   "metadata": {},
   "source": [
    "#### Step 3 - Use a comprehension to read in all files\n",
    "\n",
    "**Note:** The data is small (< 10mb total) so it is safe to read all at once."
   ]
  },
  {
   "cell_type": "code",
   "execution_count": 48,
   "metadata": {},
   "outputs": [
    {
     "ename": "KeyError",
     "evalue": "'Batting'",
     "output_type": "error",
     "traceback": [
      "\u001b[1;31m---------------------------------------------------------------------------\u001b[0m",
      "\u001b[1;31mKeyError\u001b[0m                                  Traceback (most recent call last)",
      "Cell \u001b[1;32mIn[48], line 2\u001b[0m\n\u001b[0;32m      1\u001b[0m dfs \u001b[38;5;241m=\u001b[39m {file_name(p):pl\u001b[38;5;241m.\u001b[39mread_csv(p) \u001b[38;5;28;01mfor\u001b[39;00m p \u001b[38;5;129;01min\u001b[39;00m files \u001b[38;5;28;01mif\u001b[39;00m is_batting_or_people(p)}\n\u001b[1;32m----> 2\u001b[0m \u001b[43mdfs\u001b[49m\u001b[43m[\u001b[49m\u001b[38;5;124;43m'\u001b[39;49m\u001b[38;5;124;43mBatting\u001b[39;49m\u001b[38;5;124;43m'\u001b[39;49m\u001b[43m]\u001b[49m\u001b[38;5;241m.\u001b[39mhead()\n",
      "\u001b[1;31mKeyError\u001b[0m: 'Batting'"
     ]
    }
   ],
   "source": [
    "dfs = {file_name(p):pl.read_csv(p) for p in files if is_batting_or_people(p)}\n",
    "dfs['Batting'].head()"
   ]
  },
  {
   "cell_type": "code",
   "execution_count": 49,
   "metadata": {},
   "outputs": [
    {
     "ename": "KeyError",
     "evalue": "'People'",
     "output_type": "error",
     "traceback": [
      "\u001b[1;31m---------------------------------------------------------------------------\u001b[0m",
      "\u001b[1;31mKeyError\u001b[0m                                  Traceback (most recent call last)",
      "Cell \u001b[1;32mIn[49], line 1\u001b[0m\n\u001b[1;32m----> 1\u001b[0m \u001b[43mdfs\u001b[49m\u001b[43m[\u001b[49m\u001b[38;5;124;43m'\u001b[39;49m\u001b[38;5;124;43mPeople\u001b[39;49m\u001b[38;5;124;43m'\u001b[39;49m\u001b[43m]\u001b[49m\u001b[38;5;241m.\u001b[39mhead()\n",
      "\u001b[1;31mKeyError\u001b[0m: 'People'"
     ]
    }
   ],
   "source": [
    "dfs['People'].head()"
   ]
  },
  {
   "cell_type": "markdown",
   "metadata": {},
   "source": [
    "#### Step 4 - Preprocess each file."
   ]
  },
  {
   "cell_type": "code",
   "execution_count": 50,
   "metadata": {},
   "outputs": [
    {
     "ename": "KeyError",
     "evalue": "'Batting'",
     "output_type": "error",
     "traceback": [
      "\u001b[1;31m---------------------------------------------------------------------------\u001b[0m",
      "\u001b[1;31mKeyError\u001b[0m                                  Traceback (most recent call last)",
      "Cell \u001b[1;32mIn[50], line 2\u001b[0m\n\u001b[0;32m      1\u001b[0m \u001b[38;5;66;03m# Filter, select, and aggregate hits for 2010.\u001b[39;00m\n\u001b[1;32m----> 2\u001b[0m hits_in_2010_raw \u001b[38;5;241m=\u001b[39m (\u001b[43mdfs\u001b[49m\u001b[43m[\u001b[49m\u001b[38;5;124;43m'\u001b[39;49m\u001b[38;5;124;43mBatting\u001b[39;49m\u001b[38;5;124;43m'\u001b[39;49m\u001b[43m]\u001b[49m\n\u001b[0;32m      3\u001b[0m                    \u001b[38;5;241m.\u001b[39mselect([\u001b[38;5;124m'\u001b[39m\u001b[38;5;124myearID\u001b[39m\u001b[38;5;124m'\u001b[39m, \u001b[38;5;124m'\u001b[39m\u001b[38;5;124mplayerID\u001b[39m\u001b[38;5;124m'\u001b[39m, \u001b[38;5;124m'\u001b[39m\u001b[38;5;124mH\u001b[39m\u001b[38;5;124m'\u001b[39m])\n\u001b[0;32m      4\u001b[0m                    \u001b[38;5;241m.\u001b[39mfilter(pl\u001b[38;5;241m.\u001b[39mcol(\u001b[38;5;124m'\u001b[39m\u001b[38;5;124myearID\u001b[39m\u001b[38;5;124m'\u001b[39m) \u001b[38;5;241m==\u001b[39m \u001b[38;5;241m2010\u001b[39m)\n\u001b[0;32m      5\u001b[0m                    \u001b[38;5;241m.\u001b[39mgroup_by(\u001b[38;5;124m'\u001b[39m\u001b[38;5;124mplayerID\u001b[39m\u001b[38;5;124m'\u001b[39m)\n\u001b[0;32m      6\u001b[0m                    \u001b[38;5;241m.\u001b[39magg(pl\u001b[38;5;241m.\u001b[39mcol(\u001b[38;5;124m'\u001b[39m\u001b[38;5;124mH\u001b[39m\u001b[38;5;124m'\u001b[39m)\u001b[38;5;241m.\u001b[39mmean()\u001b[38;5;241m.\u001b[39malias(\u001b[38;5;124m'\u001b[39m\u001b[38;5;124mTotal Hits\u001b[39m\u001b[38;5;124m'\u001b[39m))\n\u001b[0;32m      7\u001b[0m                    )\n\u001b[0;32m      8\u001b[0m hits_in_2010_raw\u001b[38;5;241m.\u001b[39mhead(\u001b[38;5;241m2\u001b[39m)\n",
      "\u001b[1;31mKeyError\u001b[0m: 'Batting'"
     ]
    }
   ],
   "source": [
    "# Filter, select, and aggregate hits for 2010.\n",
    "hits_in_2010_raw = (dfs['Batting']\n",
    "                   .select(['yearID', 'playerID', 'H'])\n",
    "                   .filter(pl.col('yearID') == 2010)\n",
    "                   .group_by('playerID')\n",
    "                   .agg(pl.col('H').mean().alias('Total Hits'))\n",
    "                   )\n",
    "hits_in_2010_raw.head(2)"
   ]
  },
  {
   "cell_type": "code",
   "execution_count": 51,
   "metadata": {},
   "outputs": [
    {
     "ename": "KeyError",
     "evalue": "'People'",
     "output_type": "error",
     "traceback": [
      "\u001b[1;31m---------------------------------------------------------------------------\u001b[0m",
      "\u001b[1;31mKeyError\u001b[0m                                  Traceback (most recent call last)",
      "Cell \u001b[1;32mIn[51], line 3\u001b[0m\n\u001b[0;32m      1\u001b[0m \u001b[38;5;66;03m# Grab the first and last names from People.\u001b[39;00m\n\u001b[1;32m----> 3\u001b[0m player_names \u001b[38;5;241m=\u001b[39m (\u001b[43mdfs\u001b[49m\u001b[43m[\u001b[49m\u001b[38;5;124;43m'\u001b[39;49m\u001b[38;5;124;43mPeople\u001b[39;49m\u001b[38;5;124;43m'\u001b[39;49m\u001b[43m]\u001b[49m\n\u001b[0;32m      4\u001b[0m                 \u001b[38;5;241m.\u001b[39mselect([\u001b[38;5;124m'\u001b[39m\u001b[38;5;124mplayerID\u001b[39m\u001b[38;5;124m'\u001b[39m, \u001b[38;5;124m'\u001b[39m\u001b[38;5;124mnameFirst\u001b[39m\u001b[38;5;124m'\u001b[39m, \u001b[38;5;124m'\u001b[39m\u001b[38;5;124mnameLast\u001b[39m\u001b[38;5;124m'\u001b[39m])\n\u001b[0;32m      5\u001b[0m                )\n\u001b[0;32m      6\u001b[0m player_names\u001b[38;5;241m.\u001b[39mhead(\u001b[38;5;241m2\u001b[39m)\n",
      "\u001b[1;31mKeyError\u001b[0m: 'People'"
     ]
    }
   ],
   "source": [
    "# Grab the first and last names from People.\n",
    "\n",
    "player_names = (dfs['People']\n",
    "                .select(['playerID', 'nameFirst', 'nameLast'])\n",
    "               )\n",
    "player_names.head(2)"
   ]
  },
  {
   "cell_type": "markdown",
   "metadata": {},
   "source": [
    "#### Step 4 -- Join the tables"
   ]
  },
  {
   "cell_type": "code",
   "execution_count": 52,
   "metadata": {},
   "outputs": [
    {
     "ename": "NameError",
     "evalue": "name 'hits_in_2010_raw' is not defined",
     "output_type": "error",
     "traceback": [
      "\u001b[1;31m---------------------------------------------------------------------------\u001b[0m",
      "\u001b[1;31mNameError\u001b[0m                                 Traceback (most recent call last)",
      "Cell \u001b[1;32mIn[52], line 1\u001b[0m\n\u001b[1;32m----> 1\u001b[0m hits_in_2010 \u001b[38;5;241m=\u001b[39m (\u001b[43mhits_in_2010_raw\u001b[49m \n\u001b[0;32m      2\u001b[0m                 \u001b[38;5;241m.\u001b[39mjoin(player_names, on\u001b[38;5;241m=\u001b[39m\u001b[38;5;124m'\u001b[39m\u001b[38;5;124mplayerID\u001b[39m\u001b[38;5;124m'\u001b[39m, how\u001b[38;5;241m=\u001b[39m\u001b[38;5;124m'\u001b[39m\u001b[38;5;124mleft\u001b[39m\u001b[38;5;124m'\u001b[39m)\n\u001b[0;32m      3\u001b[0m                 \u001b[38;5;241m.\u001b[39mdrop(\u001b[38;5;124m'\u001b[39m\u001b[38;5;124mplayerID\u001b[39m\u001b[38;5;124m'\u001b[39m)\n\u001b[0;32m      4\u001b[0m                )\n\u001b[0;32m      5\u001b[0m hits_in_2010\u001b[38;5;241m.\u001b[39mhead()\n",
      "\u001b[1;31mNameError\u001b[0m: name 'hits_in_2010_raw' is not defined"
     ]
    }
   ],
   "source": [
    "hits_in_2010 = (hits_in_2010_raw \n",
    "                .join(player_names, on='playerID', how='left')\n",
    "                .drop('playerID')\n",
    "               )\n",
    "hits_in_2010.head()"
   ]
  },
  {
   "cell_type": "markdown",
   "metadata": {},
   "source": [
    "## <font color=\"red\"> Exercise 3.2 </font>\n",
    "\n",
    "We want to get the total hits allowed for all pitchers during the 2000-2010 seasons.  Use `glob` and a `dict` to collect this information into a table that includes the players first and last names."
   ]
  },
  {
   "cell_type": "code",
   "execution_count": 53,
   "metadata": {},
   "outputs": [
    {
     "data": {
      "text/plain": [
       "['./data/baseball/core\\\\AllstarFull.csv',\n",
       " './data/baseball/core\\\\Appearances.csv',\n",
       " './data/baseball/core\\\\AwardsManagers.csv',\n",
       " './data/baseball/core\\\\AwardsPlayers.csv',\n",
       " './data/baseball/core\\\\AwardsShareManagers.csv',\n",
       " './data/baseball/core\\\\AwardsSharePlayers.csv',\n",
       " './data/baseball/core\\\\Batting.csv',\n",
       " './data/baseball/core\\\\BattingPost.csv',\n",
       " './data/baseball/core\\\\CollegePlaying.csv',\n",
       " './data/baseball/core\\\\Fielding.csv',\n",
       " './data/baseball/core\\\\FieldingOF.csv',\n",
       " './data/baseball/core\\\\FieldingOFsplit.csv',\n",
       " './data/baseball/core\\\\FieldingPost.csv',\n",
       " './data/baseball/core\\\\HallOfFame.csv',\n",
       " './data/baseball/core\\\\HomeGames.csv',\n",
       " './data/baseball/core\\\\Managers.csv',\n",
       " './data/baseball/core\\\\ManagersHalf.csv',\n",
       " './data/baseball/core\\\\Parks.csv',\n",
       " './data/baseball/core\\\\People.csv',\n",
       " './data/baseball/core\\\\Pitching.csv',\n",
       " './data/baseball/core\\\\PitchingPost.csv',\n",
       " './data/baseball/core\\\\Salaries.csv',\n",
       " './data/baseball/core\\\\Schools.csv',\n",
       " './data/baseball/core\\\\SeriesPost.csv',\n",
       " './data/baseball/core\\\\Teams.csv',\n",
       " './data/baseball/core\\\\TeamsFranchises.csv',\n",
       " './data/baseball/core\\\\TeamsHalf.csv']"
      ]
     },
     "execution_count": 53,
     "metadata": {},
     "output_type": "execute_result"
    }
   ],
   "source": [
    "files = glob('./data/baseball/core/*.csv')\n",
    "files"
   ]
  },
  {
   "cell_type": "code",
   "execution_count": 90,
   "metadata": {},
   "outputs": [],
   "source": [
    "FILE_NAME_RE = re.compile(r'^(?:\\.\\/|\\.\\\\)?data[\\/\\\\]baseball[\\/\\\\]core[\\/\\\\](Pitching|People)\\.csv$')\n",
    "file_name = lambda p: FILE_NAME_RE.match(p).group(1) if FILE_NAME_RE.match(p) else None "
   ]
  },
  {
   "cell_type": "code",
   "execution_count": 91,
   "metadata": {},
   "outputs": [
    {
     "data": {
      "text/plain": [
       "{'People': shape: (20_090, 24)\n",
       " ┌───────────┬───────────┬────────────┬──────────┬───┬───────────┬───────────┬──────────┬───────────┐\n",
       " │ playerID  ┆ birthYear ┆ birthMonth ┆ birthDay ┆ … ┆ debut     ┆ finalGame ┆ retroID  ┆ bbrefID   │\n",
       " │ ---       ┆ ---       ┆ ---        ┆ ---      ┆   ┆ ---       ┆ ---       ┆ ---      ┆ ---       │\n",
       " │ str       ┆ i64       ┆ i64        ┆ i64      ┆   ┆ str       ┆ str       ┆ str      ┆ str       │\n",
       " ╞═══════════╪═══════════╪════════════╪══════════╪═══╪═══════════╪═══════════╪══════════╪═══════════╡\n",
       " │ aardsda01 ┆ 1981      ┆ 12         ┆ 27       ┆ … ┆ 2004-04-0 ┆ 2015-08-2 ┆ aardd001 ┆ aardsda01 │\n",
       " │           ┆           ┆            ┆          ┆   ┆ 6         ┆ 3         ┆          ┆           │\n",
       " │ aaronha01 ┆ 1934      ┆ 2          ┆ 5        ┆ … ┆ 1954-04-1 ┆ 1976-10-0 ┆ aaroh101 ┆ aaronha01 │\n",
       " │           ┆           ┆            ┆          ┆   ┆ 3         ┆ 3         ┆          ┆           │\n",
       " │ aaronto01 ┆ 1939      ┆ 8          ┆ 5        ┆ … ┆ 1962-04-1 ┆ 1971-09-2 ┆ aarot101 ┆ aaronto01 │\n",
       " │           ┆           ┆            ┆          ┆   ┆ 0         ┆ 6         ┆          ┆           │\n",
       " │ aasedo01  ┆ 1954      ┆ 9          ┆ 8        ┆ … ┆ 1977-07-2 ┆ 1990-10-0 ┆ aased001 ┆ aasedo01  │\n",
       " │           ┆           ┆            ┆          ┆   ┆ 6         ┆ 3         ┆          ┆           │\n",
       " │ abadan01  ┆ 1972      ┆ 8          ┆ 25       ┆ … ┆ 2001-09-1 ┆ 2006-04-1 ┆ abada001 ┆ abadan01  │\n",
       " │           ┆           ┆            ┆          ┆   ┆ 0         ┆ 3         ┆          ┆           │\n",
       " │ …         ┆ …         ┆ …          ┆ …        ┆ … ┆ …         ┆ …         ┆ …        ┆ …         │\n",
       " │ zupofr01  ┆ 1939      ┆ 8          ┆ 29       ┆ … ┆ 1957-07-0 ┆ 1961-05-0 ┆ zupof101 ┆ zupofr01  │\n",
       " │           ┆           ┆            ┆          ┆   ┆ 1         ┆ 9         ┆          ┆           │\n",
       " │ zuvelpa01 ┆ 1958      ┆ 10         ┆ 31       ┆ … ┆ 1982-09-0 ┆ 1991-05-0 ┆ zuvep001 ┆ zuvelpa01 │\n",
       " │           ┆           ┆            ┆          ┆   ┆ 4         ┆ 2         ┆          ┆           │\n",
       " │ zuverge01 ┆ 1924      ┆ 8          ┆ 20       ┆ … ┆ 1951-04-2 ┆ 1959-06-1 ┆ zuveg101 ┆ zuverge01 │\n",
       " │           ┆           ┆            ┆          ┆   ┆ 1         ┆ 5         ┆          ┆           │\n",
       " │ zwilldu01 ┆ 1888      ┆ 11         ┆ 2        ┆ … ┆ 1910-08-1 ┆ 1916-07-1 ┆ zwild101 ┆ zwilldu01 │\n",
       " │           ┆           ┆            ┆          ┆   ┆ 4         ┆ 2         ┆          ┆           │\n",
       " │ zychto01  ┆ 1990      ┆ 8          ┆ 7        ┆ … ┆ 2015-09-0 ┆ 2017-08-1 ┆ zycht001 ┆ zychto01  │\n",
       " │           ┆           ┆            ┆          ┆   ┆ 4         ┆ 9         ┆          ┆           │\n",
       " └───────────┴───────────┴────────────┴──────────┴───┴───────────┴───────────┴──────────┴───────────┘,\n",
       " 'Pitching': shape: (47_628, 30)\n",
       " ┌───────────┬────────┬───────┬────────┬───┬─────┬──────┬──────┬──────┐\n",
       " │ playerID  ┆ yearID ┆ stint ┆ teamID ┆ … ┆ R   ┆ SH   ┆ SF   ┆ GIDP │\n",
       " │ ---       ┆ ---    ┆ ---   ┆ ---    ┆   ┆ --- ┆ ---  ┆ ---  ┆ ---  │\n",
       " │ str       ┆ i64    ┆ i64   ┆ str    ┆   ┆ i64 ┆ str  ┆ str  ┆ str  │\n",
       " ╞═══════════╪════════╪═══════╪════════╪═══╪═════╪══════╪══════╪══════╡\n",
       " │ bechtge01 ┆ 1871   ┆ 1     ┆ PH1    ┆ … ┆ 42  ┆ null ┆ null ┆ null │\n",
       " │ brainas01 ┆ 1871   ┆ 1     ┆ WS3    ┆ … ┆ 292 ┆ null ┆ null ┆ null │\n",
       " │ fergubo01 ┆ 1871   ┆ 1     ┆ NY2    ┆ … ┆ 9   ┆ null ┆ null ┆ null │\n",
       " │ fishech01 ┆ 1871   ┆ 1     ┆ RC1    ┆ … ┆ 257 ┆ null ┆ null ┆ null │\n",
       " │ fleetfr01 ┆ 1871   ┆ 1     ┆ NY2    ┆ … ┆ 21  ┆ null ┆ null ┆ null │\n",
       " │ …         ┆ …      ┆ …     ┆ …      ┆ … ┆ …   ┆ …    ┆ …    ┆ …    │\n",
       " │ zamorda01 ┆ 2019   ┆ 1     ┆ NYN    ┆ … ┆ 5   ┆ 0    ┆ 1    ┆ 0    │\n",
       " │ zeuchtj01 ┆ 2019   ┆ 1     ┆ TOR    ┆ … ┆ 13  ┆ 0    ┆ 0    ┆ 1    │\n",
       " │ zimmejo02 ┆ 2019   ┆ 1     ┆ DET    ┆ … ┆ 89  ┆ 3    ┆ 4    ┆ 5    │\n",
       " │ zimmeky01 ┆ 2019   ┆ 1     ┆ KCA    ┆ … ┆ 22  ┆ 0    ┆ 0    ┆ 1    │\n",
       " │ zobribe01 ┆ 2019   ┆ 1     ┆ CHN    ┆ … ┆ 0   ┆ 0    ┆ 0    ┆ 0    │\n",
       " └───────────┴────────┴───────┴────────┴───┴─────┴──────┴──────┴──────┘}"
      ]
     },
     "execution_count": 91,
     "metadata": {},
     "output_type": "execute_result"
    }
   ],
   "source": [
    "baseball_db = {file_name(p): pl.read_csv(p, infer_schema_length=10000) for p in files if file_name(p) is not None}\n",
    "baseball_db"
   ]
  },
  {
   "cell_type": "code",
   "execution_count": 92,
   "metadata": {},
   "outputs": [
    {
     "data": {
      "text/plain": [
       "{'Pitching': shape: (47_628, 30)\n",
       " ┌───────────┬────────┬───────┬────────┬───┬─────┬──────┬──────┬──────┐\n",
       " │ playerID  ┆ yearID ┆ stint ┆ teamID ┆ … ┆ R   ┆ SH   ┆ SF   ┆ GIDP │\n",
       " │ ---       ┆ ---    ┆ ---   ┆ ---    ┆   ┆ --- ┆ ---  ┆ ---  ┆ ---  │\n",
       " │ str       ┆ i64    ┆ i64   ┆ str    ┆   ┆ i64 ┆ str  ┆ str  ┆ str  │\n",
       " ╞═══════════╪════════╪═══════╪════════╪═══╪═════╪══════╪══════╪══════╡\n",
       " │ bechtge01 ┆ 1871   ┆ 1     ┆ PH1    ┆ … ┆ 42  ┆ null ┆ null ┆ null │\n",
       " │ brainas01 ┆ 1871   ┆ 1     ┆ WS3    ┆ … ┆ 292 ┆ null ┆ null ┆ null │\n",
       " │ fergubo01 ┆ 1871   ┆ 1     ┆ NY2    ┆ … ┆ 9   ┆ null ┆ null ┆ null │\n",
       " │ fishech01 ┆ 1871   ┆ 1     ┆ RC1    ┆ … ┆ 257 ┆ null ┆ null ┆ null │\n",
       " │ fleetfr01 ┆ 1871   ┆ 1     ┆ NY2    ┆ … ┆ 21  ┆ null ┆ null ┆ null │\n",
       " │ …         ┆ …      ┆ …     ┆ …      ┆ … ┆ …   ┆ …    ┆ …    ┆ …    │\n",
       " │ zamorda01 ┆ 2019   ┆ 1     ┆ NYN    ┆ … ┆ 5   ┆ 0    ┆ 1    ┆ 0    │\n",
       " │ zeuchtj01 ┆ 2019   ┆ 1     ┆ TOR    ┆ … ┆ 13  ┆ 0    ┆ 0    ┆ 1    │\n",
       " │ zimmejo02 ┆ 2019   ┆ 1     ┆ DET    ┆ … ┆ 89  ┆ 3    ┆ 4    ┆ 5    │\n",
       " │ zimmeky01 ┆ 2019   ┆ 1     ┆ KCA    ┆ … ┆ 22  ┆ 0    ┆ 0    ┆ 1    │\n",
       " │ zobribe01 ┆ 2019   ┆ 1     ┆ CHN    ┆ … ┆ 0   ┆ 0    ┆ 0    ┆ 0    │\n",
       " └───────────┴────────┴───────┴────────┴───┴─────┴──────┴──────┴──────┘,\n",
       " 'People': shape: (20_090, 24)\n",
       " ┌───────────┬───────────┬────────────┬──────────┬───┬───────────┬───────────┬──────────┬───────────┐\n",
       " │ playerID  ┆ birthYear ┆ birthMonth ┆ birthDay ┆ … ┆ debut     ┆ finalGame ┆ retroID  ┆ bbrefID   │\n",
       " │ ---       ┆ ---       ┆ ---        ┆ ---      ┆   ┆ ---       ┆ ---       ┆ ---      ┆ ---       │\n",
       " │ str       ┆ i64       ┆ i64        ┆ i64      ┆   ┆ str       ┆ str       ┆ str      ┆ str       │\n",
       " ╞═══════════╪═══════════╪════════════╪══════════╪═══╪═══════════╪═══════════╪══════════╪═══════════╡\n",
       " │ aardsda01 ┆ 1981      ┆ 12         ┆ 27       ┆ … ┆ 2004-04-0 ┆ 2015-08-2 ┆ aardd001 ┆ aardsda01 │\n",
       " │           ┆           ┆            ┆          ┆   ┆ 6         ┆ 3         ┆          ┆           │\n",
       " │ aaronha01 ┆ 1934      ┆ 2          ┆ 5        ┆ … ┆ 1954-04-1 ┆ 1976-10-0 ┆ aaroh101 ┆ aaronha01 │\n",
       " │           ┆           ┆            ┆          ┆   ┆ 3         ┆ 3         ┆          ┆           │\n",
       " │ aaronto01 ┆ 1939      ┆ 8          ┆ 5        ┆ … ┆ 1962-04-1 ┆ 1971-09-2 ┆ aarot101 ┆ aaronto01 │\n",
       " │           ┆           ┆            ┆          ┆   ┆ 0         ┆ 6         ┆          ┆           │\n",
       " │ aasedo01  ┆ 1954      ┆ 9          ┆ 8        ┆ … ┆ 1977-07-2 ┆ 1990-10-0 ┆ aased001 ┆ aasedo01  │\n",
       " │           ┆           ┆            ┆          ┆   ┆ 6         ┆ 3         ┆          ┆           │\n",
       " │ abadan01  ┆ 1972      ┆ 8          ┆ 25       ┆ … ┆ 2001-09-1 ┆ 2006-04-1 ┆ abada001 ┆ abadan01  │\n",
       " │           ┆           ┆            ┆          ┆   ┆ 0         ┆ 3         ┆          ┆           │\n",
       " │ …         ┆ …         ┆ …          ┆ …        ┆ … ┆ …         ┆ …         ┆ …        ┆ …         │\n",
       " │ zupofr01  ┆ 1939      ┆ 8          ┆ 29       ┆ … ┆ 1957-07-0 ┆ 1961-05-0 ┆ zupof101 ┆ zupofr01  │\n",
       " │           ┆           ┆            ┆          ┆   ┆ 1         ┆ 9         ┆          ┆           │\n",
       " │ zuvelpa01 ┆ 1958      ┆ 10         ┆ 31       ┆ … ┆ 1982-09-0 ┆ 1991-05-0 ┆ zuvep001 ┆ zuvelpa01 │\n",
       " │           ┆           ┆            ┆          ┆   ┆ 4         ┆ 2         ┆          ┆           │\n",
       " │ zuverge01 ┆ 1924      ┆ 8          ┆ 20       ┆ … ┆ 1951-04-2 ┆ 1959-06-1 ┆ zuveg101 ┆ zuverge01 │\n",
       " │           ┆           ┆            ┆          ┆   ┆ 1         ┆ 5         ┆          ┆           │\n",
       " │ zwilldu01 ┆ 1888      ┆ 11         ┆ 2        ┆ … ┆ 1910-08-1 ┆ 1916-07-1 ┆ zwild101 ┆ zwilldu01 │\n",
       " │           ┆           ┆            ┆          ┆   ┆ 4         ┆ 2         ┆          ┆           │\n",
       " │ zychto01  ┆ 1990      ┆ 8          ┆ 7        ┆ … ┆ 2015-09-0 ┆ 2017-08-1 ┆ zycht001 ┆ zychto01  │\n",
       " │           ┆           ┆            ┆          ┆   ┆ 4         ┆ 9         ┆          ┆           │\n",
       " └───────────┴───────────┴────────────┴──────────┴───┴───────────┴───────────┴──────────┴───────────┘}"
      ]
     },
     "execution_count": 92,
     "metadata": {},
     "output_type": "execute_result"
    }
   ],
   "source": [
    "required_tables = ['Pitching', 'People']\n",
    "dfs = {name: baseball_db[name] for name in required_tables if name in baseball_db}\n",
    "required_tables\n",
    "dfs"
   ]
  },
  {
   "cell_type": "code",
   "execution_count": 93,
   "metadata": {},
   "outputs": [
    {
     "name": "stdout",
     "output_type": "stream",
     "text": [
      "dict_keys(['People', 'Pitching'])\n"
     ]
    }
   ],
   "source": [
    "print(baseball_db.keys())"
   ]
  },
  {
   "cell_type": "code",
   "execution_count": 99,
   "metadata": {},
   "outputs": [],
   "source": [
    "hits_in_2010_raw = (dfs['Pitching']\n",
    "                    .select(['yearID', 'playerID', 'H'])\n",
    "                    .filter((pl.col('yearID') >= 2000) & (pl.col('yearID') <= 2010))\n",
    "                    .group_by('playerID')\n",
    "                    .agg(pl.col('H').sum().alias('Total Hits')))"
   ]
  },
  {
   "cell_type": "code",
   "execution_count": 101,
   "metadata": {},
   "outputs": [
    {
     "data": {
      "text/html": [
       "<div><style>\n",
       ".dataframe > thead > tr,\n",
       ".dataframe > tbody > tr {\n",
       "  text-align: right;\n",
       "  white-space: pre-wrap;\n",
       "}\n",
       "</style>\n",
       "<small>shape: (1_871, 4)</small><table border=\"1\" class=\"dataframe\"><thead><tr><th>playerID</th><th>Total Hits</th><th>nameFirst</th><th>nameLast</th></tr><tr><td>str</td><td>i64</td><td>str</td><td>str</td></tr></thead><tbody><tr><td>&quot;aardsda01&quot;</td><td>231</td><td>&quot;David&quot;</td><td>&quot;Aardsma&quot;</td></tr><tr><td>&quot;abadfe01&quot;</td><td>14</td><td>&quot;Fernando&quot;</td><td>&quot;Abad&quot;</td></tr><tr><td>&quot;abbotpa01&quot;</td><td>502</td><td>&quot;Paul&quot;</td><td>&quot;Abbott&quot;</td></tr><tr><td>&quot;abreuwi01&quot;</td><td>57</td><td>&quot;Winston&quot;</td><td>&quot;Abreu&quot;</td></tr><tr><td>&quot;accarje01&quot;</td><td>203</td><td>&quot;Jeremy&quot;</td><td>&quot;Accardo&quot;</td></tr><tr><td>&hellip;</td><td>&hellip;</td><td>&hellip;</td><td>&hellip;</td></tr><tr><td>&quot;zimmeje02&quot;</td><td>128</td><td>&quot;Jeff&quot;</td><td>&quot;Zimmerman&quot;</td></tr><tr><td>&quot;zimmejo02&quot;</td><td>126</td><td>&quot;Jordan&quot;</td><td>&quot;Zimmermann&quot;</td></tr><tr><td>&quot;zinkch01&quot;</td><td>11</td><td>&quot;Charlie&quot;</td><td>&quot;Zink&quot;</td></tr><tr><td>&quot;zitoba01&quot;</td><td>1959</td><td>&quot;Barry&quot;</td><td>&quot;Zito&quot;</td></tr><tr><td>&quot;zumayjo01&quot;</td><td>169</td><td>&quot;Joel&quot;</td><td>&quot;Zumaya&quot;</td></tr></tbody></table></div>"
      ],
      "text/plain": [
       "shape: (1_871, 4)\n",
       "┌───────────┬────────────┬───────────┬────────────┐\n",
       "│ playerID  ┆ Total Hits ┆ nameFirst ┆ nameLast   │\n",
       "│ ---       ┆ ---        ┆ ---       ┆ ---        │\n",
       "│ str       ┆ i64        ┆ str       ┆ str        │\n",
       "╞═══════════╪════════════╪═══════════╪════════════╡\n",
       "│ aardsda01 ┆ 231        ┆ David     ┆ Aardsma    │\n",
       "│ abadfe01  ┆ 14         ┆ Fernando  ┆ Abad       │\n",
       "│ abbotpa01 ┆ 502        ┆ Paul      ┆ Abbott     │\n",
       "│ abreuwi01 ┆ 57         ┆ Winston   ┆ Abreu      │\n",
       "│ accarje01 ┆ 203        ┆ Jeremy    ┆ Accardo    │\n",
       "│ …         ┆ …          ┆ …         ┆ …          │\n",
       "│ zimmeje02 ┆ 128        ┆ Jeff      ┆ Zimmerman  │\n",
       "│ zimmejo02 ┆ 126        ┆ Jordan    ┆ Zimmermann │\n",
       "│ zinkch01  ┆ 11         ┆ Charlie   ┆ Zink       │\n",
       "│ zitoba01  ┆ 1959       ┆ Barry     ┆ Zito       │\n",
       "│ zumayjo01 ┆ 169        ┆ Joel      ┆ Zumaya     │\n",
       "└───────────┴────────────┴───────────┴────────────┘"
      ]
     },
     "execution_count": 101,
     "metadata": {},
     "output_type": "execute_result"
    }
   ],
   "source": [
    "player_names = dfs['People'].select(['playerID', 'nameFirst', 'nameLast'])\n",
    "total_hits_with_names = hits_in_2010_raw.join(player_names, on='playerID')\n",
    "total_hits_with_names"
   ]
  }
 ],
 "metadata": {
  "kernelspec": {
   "display_name": "Python 3 (ipykernel)",
   "language": "python",
   "name": "python3"
  },
  "language_info": {
   "codemirror_mode": {
    "name": "ipython",
    "version": 3
   },
   "file_extension": ".py",
   "mimetype": "text/x-python",
   "name": "python",
   "nbconvert_exporter": "python",
   "pygments_lexer": "ipython3",
   "version": "3.12.5"
  }
 },
 "nbformat": 4,
 "nbformat_minor": 4
}
